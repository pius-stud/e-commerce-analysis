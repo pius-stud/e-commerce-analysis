{
 "cells": [
  {
   "cell_type": "code",
   "execution_count": null,
   "id": "ff1dda83-ee99-4f37-bd55-5011ea68b7a7",
   "metadata": {},
   "outputs": [],
   "source": [
    "# Connection to MongoDB Compass"
   ]
  },
  {
   "cell_type": "code",
   "execution_count": null,
   "id": "5d4ff722-69a2-46ce-a32d-7a53dd2b8550",
   "metadata": {},
   "outputs": [],
   "source": [
    "from pyspark.sql import SparkSession"
   ]
  },
  {
   "cell_type": "code",
   "execution_count": null,
   "id": "d45e6ac7-7a66-4091-8fbd-683ccb3e2b2e",
   "metadata": {},
   "outputs": [],
   "source": [
    "spark = SparkSession.builder.appName(\"ConnectionMongo\") \\\n",
    "    .config(\"spark.jars.packages\", \"org.mongodb.spark:mongo-spark-connector_2.12:3.0.1\") \\\n",
    "    .config(\"spark.driver.extraJavaOptions\", \"-Dlog4j.configuration=log4j.properties\")\\\n",
    "    .getOrCreate()"
   ]
  },
  {
   "cell_type": "code",
   "execution_count": null,
   "id": "d5b6b284-1db8-48d9-80cc-d87df63299ec",
   "metadata": {},
   "outputs": [],
   "source": [
    "# Load dataset\n",
    "\n",
    "df = spark.read.csv('sample.csv', inferSchema=True, header=True)"
   ]
  },
  {
   "cell_type": "code",
   "execution_count": null,
   "id": "9c1b36a3-fd89-48c9-8bd1-e8d740d31575",
   "metadata": {},
   "outputs": [],
   "source": [
    "df.show()"
   ]
  },
  {
   "cell_type": "code",
   "execution_count": null,
   "id": "de4b250e-c359-4e8f-855b-d6870a60cf41",
   "metadata": {},
   "outputs": [],
   "source": [
    "df.printSchema()"
   ]
  },
  {
   "cell_type": "code",
   "execution_count": null,
   "id": "2115fa49-c5a9-4a86-b4b5-839278cbb407",
   "metadata": {},
   "outputs": [],
   "source": [
    "# Modifying schema\n",
    "\n",
    "from pyspark.sql.types import StringType, StructField, StructType, TimestampType, DoubleType"
   ]
  },
  {
   "cell_type": "code",
   "execution_count": null,
   "id": "7e678a41-6fe9-4faa-abef-54c925363c84",
   "metadata": {},
   "outputs": [],
   "source": [
    "schema1 = StructType([StructField('event_time', TimestampType(), True),\n",
    "\n",
    "                      StructField('event_type', StringType(), True),\n",
    "\n",
    "                      StructField('product_id', StringType(), True),\n",
    "\n",
    "                      StructField('category_id', StringType(), True),\n",
    "\n",
    "                      StructField('category_code', StringType(), True),\n",
    "\n",
    "                      StructField('brand', StringType(), True),\n",
    "\n",
    "                      StructField('price', DoubleType(), True),\n",
    "\n",
    "                      StructField('user_id', StringType(), True),\n",
    "\n",
    "                      StructField('user_session', StringType(), True)])"
   ]
  },
  {
   "cell_type": "code",
   "execution_count": null,
   "id": "b004cd07-ec79-48ea-9c3b-c389565a5276",
   "metadata": {},
   "outputs": [],
   "source": [
    "final_struct = StructType(fields=schema1)"
   ]
  },
  {
   "cell_type": "code",
   "execution_count": null,
   "id": "e00878e1-9fc8-4113-bf68-cafd05dd5446",
   "metadata": {},
   "outputs": [],
   "source": [
    "df = spark.read.csv('sample.csv', schema=schema1, header=True)"
   ]
  },
  {
   "cell_type": "code",
   "execution_count": null,
   "id": "8b61d8e1-e96c-4328-8128-c953ac98fa52",
   "metadata": {},
   "outputs": [],
   "source": [
    "df.printSchema()"
   ]
  },
  {
   "cell_type": "code",
   "execution_count": null,
   "id": "33b1272d-0ad4-4c87-97fc-7dd8c0f78548",
   "metadata": {},
   "outputs": [],
   "source": [
    "df.show()"
   ]
  },
  {
   "cell_type": "code",
   "execution_count": null,
   "id": "276aa056-e253-4853-92a3-48c40b0e9101",
   "metadata": {},
   "outputs": [],
   "source": [
    "df.columns"
   ]
  },
  {
   "cell_type": "code",
   "execution_count": null,
   "id": "d883db66-5ad5-4cc2-998a-d06e378f2ae7",
   "metadata": {},
   "outputs": [],
   "source": [
    "# Clean data\n",
    "\n",
    "df = df.na.drop(how='any')"
   ]
  },
  {
   "cell_type": "code",
   "execution_count": null,
   "id": "de844350-5b83-4346-a99e-e2afe0bd55d1",
   "metadata": {},
   "outputs": [],
   "source": [
    "##### EDA"
   ]
  },
  {
   "cell_type": "code",
   "execution_count": null,
   "id": "b2992533-efe0-42a2-8f9a-f32f5cbd642e",
   "metadata": {},
   "outputs": [],
   "source": [
    "# Summary price\n",
    "\n",
    "df.describe(\"price\").show()"
   ]
  },
  {
   "cell_type": "code",
   "execution_count": null,
   "id": "b7dd6813-57fd-4012-a888-1c62998003a7",
   "metadata": {},
   "outputs": [],
   "source": [
    "# Mean price per brand\n",
    "mean_brand = df.groupBy(\"brand\").mean()\n",
    "\n",
    "mean_brand.show()"
   ]
  },
  {
   "cell_type": "code",
   "execution_count": null,
   "id": "fa635d4b-59c9-47d2-9044-78c89285a678",
   "metadata": {},
   "outputs": [],
   "source": [
    "# Number of not unique products per Brand\n",
    "products_per_brand = df.groupBy(\"brand\").count()\n",
    "products_per_brand.show()"
   ]
  },
  {
   "cell_type": "code",
   "execution_count": null,
   "id": "ef4127b1-2065-4579-bc16-fc03ea99ddc7",
   "metadata": {},
   "outputs": [],
   "source": [
    "# Saving precomputation in MongoDB Compass\n",
    "products_per_brand.write.format(\"com.mongodb.spark.sql.DefaultSource\")\\\n",
    "    .mode(\"append\")\\\n",
    "    .option(\"spark.mongodb.output.uri\", \"mongodb://mongodb:27017/eCommerce.NumUniqueProducts\")\\\n",
    "    .save()"
   ]
  },
  {
   "cell_type": "code",
   "execution_count": null,
   "id": "7bcbac23-9167-4ce9-b633-1676a5d7461e",
   "metadata": {},
   "outputs": [],
   "source": [
    "# Number of unique products for: product_id, category_code, brand, user_id"
   ]
  },
  {
   "cell_type": "code",
   "execution_count": null,
   "id": "5d229c99-7b8a-4b79-adaa-c5d68360ed18",
   "metadata": {},
   "outputs": [],
   "source": [
    "from pyspark.sql.functions import countDistinct, avg, stddev"
   ]
  },
  {
   "cell_type": "code",
   "execution_count": null,
   "id": "0698e0ce-c97d-4a80-abe5-061a21078f18",
   "metadata": {},
   "outputs": [],
   "source": [
    "# product_id\n",
    "numero_prodotti_distinti = df.select(countDistinct(\"product_id\"))\n",
    "numero_prodotti_distinti.show()"
   ]
  },
  {
   "cell_type": "code",
   "execution_count": null,
   "id": "43b1dca8-450e-4299-aef0-ffb3e968f8eb",
   "metadata": {},
   "outputs": [],
   "source": [
    "# category_code\n",
    "numero_categorie_distinte = df.select(countDistinct(\"category_code\"))\n",
    "numero_categorie_distinte.show()"
   ]
  },
  {
   "cell_type": "code",
   "execution_count": null,
   "id": "f950238d-116a-4918-8713-63cb4c9f2635",
   "metadata": {},
   "outputs": [],
   "source": [
    "# brand\n",
    "numero_brand = df.select(countDistinct(\"brand\"))\n",
    "numero_brand.show()"
   ]
  },
  {
   "cell_type": "code",
   "execution_count": null,
   "id": "c9fe76a0-850a-4fc6-b71d-28ccf52a132c",
   "metadata": {},
   "outputs": [],
   "source": [
    "# user_id\n",
    "numero_utenti = df.select(countDistinct(\"user_id\"))\n",
    "numero_utenti.show()"
   ]
  },
  {
   "cell_type": "code",
   "execution_count": null,
   "id": "08c7ffc9-2333-411f-bf9e-de496da2f894",
   "metadata": {},
   "outputs": [],
   "source": [
    "# Count for each event"
   ]
  },
  {
   "cell_type": "code",
   "execution_count": null,
   "id": "5e3b72b7-91a9-416d-9f1f-f94a9da8f17b",
   "metadata": {},
   "outputs": [],
   "source": [
    "count_events = df.groupBy(\"event_type\").count()\n",
    "count_events.show()"
   ]
  },
  {
   "cell_type": "code",
   "execution_count": null,
   "id": "74332385-a657-4164-af00-512888fd5faf",
   "metadata": {},
   "outputs": [],
   "source": [
    "count_events.write.format(\"com.mongodb.spark.sql.DefaultSource\")\\\n",
    "    .mode(\"append\")\\\n",
    "    .option(\"spark.mongodb.output.uri\", \"mongodb://mongodb:27017/eCommerce.NumEventTypes\")\\\n",
    "    .save()"
   ]
  },
  {
   "cell_type": "code",
   "execution_count": null,
   "id": "9077512c-f899-47b6-b173-fe375deb3c99",
   "metadata": {},
   "outputs": [],
   "source": [
    "# PLOTS"
   ]
  },
  {
   "cell_type": "code",
   "execution_count": null,
   "id": "6a39036d-fbcd-4c73-b8bb-b35ade68fca6",
   "metadata": {},
   "outputs": [],
   "source": [
    "import matplotlib.pyplot as plt"
   ]
  },
  {
   "cell_type": "code",
   "execution_count": null,
   "id": "29990f1f-7794-4ca2-a9e8-f9c7abe433f0",
   "metadata": {},
   "outputs": [],
   "source": [
    "avg_brand_price = df.groupBy(\"brand\").mean()"
   ]
  },
  {
   "cell_type": "code",
   "execution_count": null,
   "id": "6a3d313c-430d-4379-8ae1-6ea0defb9980",
   "metadata": {},
   "outputs": [],
   "source": [
    "avg_brand_price.select('avg(price)').show()"
   ]
  },
  {
   "cell_type": "code",
   "execution_count": null,
   "id": "cbd656d1-4275-4de0-ba83-840c17740592",
   "metadata": {},
   "outputs": [],
   "source": [
    "sorted_df = avg_brand_price.orderBy(avg_brand_price['avg(price)'].desc())#.show()\n"
   ]
  },
  {
   "cell_type": "code",
   "execution_count": null,
   "id": "62eba2e5-b174-49b7-8368-54c8ff9288e4",
   "metadata": {},
   "outputs": [],
   "source": [
    "# TOP 10 brand higher avg prices\n",
    "# Get the first 10 values from each column\n",
    "first_10_values = sorted_df.limit(10).select(*[sorted_df[c] for c in sorted_df.columns])\n",
    "\n",
    "# Show the first 10 values from each column\n",
    "first_10_values.show()"
   ]
  },
  {
   "cell_type": "code",
   "execution_count": null,
   "id": "b53ce117-b531-4972-be01-a1dd5b411eb9",
   "metadata": {},
   "outputs": [],
   "source": [
    "sorted_df = sorted_df.withColumnRenamed(\"avg(price)\", \"prezzo_medio\")"
   ]
  },
  {
   "cell_type": "code",
   "execution_count": null,
   "id": "f1fee80e-faa8-452e-9678-d99c36403cb4",
   "metadata": {},
   "outputs": [],
   "source": [
    "sorted_df.show()"
   ]
  },
  {
   "cell_type": "code",
   "execution_count": null,
   "id": "f682696c-1387-4010-8d17-f5d5e87db5b2",
   "metadata": {},
   "outputs": [],
   "source": [
    "sorted_df.write.format(\"com.mongodb.spark.sql.DefaultSource\")\\\n",
    "    .mode(\"append\")\\\n",
    "    .option(\"spark.mongodb.output.uri\", \"mongodb://mongodb:27017/eCommerce.prezzoMedioBrandOrdinati\")\\\n",
    "    .save()"
   ]
  },
  {
   "cell_type": "code",
   "execution_count": null,
   "id": "1c0951ec-9e8d-42b7-8248-1f2603935365",
   "metadata": {},
   "outputs": [],
   "source": [
    "# Getting values from dataframe 'avg_brand_price'. Columns \"brand\" and \"avg(price)\"\n",
    "top10_avgprice = first_10_values.select(\"avg(price)\").rdd.flatMap(lambda x: x).collect()\n",
    "top10_expensives_brand = first_10_values.select(\"brand\").rdd.flatMap(lambda x: x).collect()"
   ]
  },
  {
   "cell_type": "code",
   "execution_count": null,
   "id": "09cddb51-ae5b-4177-a413-fa5b75fb23e5",
   "metadata": {},
   "outputs": [],
   "source": [
    "plt.figure(figsize=(14, 8))\n",
    "plt.bar(top10_expensives_brand,top10_avgprice) \n",
    "plt.xlabel('Brand')\n",
    "plt.ylabel('Avg Price')\n",
    "plt.title('Top 10 Most expensive brand and avg price', fontweight = \"bold\")\n",
    "plt.xticks(rotation=90)\n",
    "plt.grid(axis= 'y', linewidth= 0.3)\n",
    "plt.show()"
   ]
  },
  {
   "cell_type": "code",
   "execution_count": null,
   "id": "015be4e8-4b14-4322-9df7-f80bbcb17b4c",
   "metadata": {},
   "outputs": [],
   "source": [
    "#####  #####  #####  #####  #####  #####  #####  #####  #####"
   ]
  },
  {
   "cell_type": "code",
   "execution_count": null,
   "id": "36124c82-0a34-47a4-8e70-55168a07ee18",
   "metadata": {},
   "outputs": [],
   "source": [
    "# Trying to understand which is the brand with mnost purchases"
   ]
  },
  {
   "cell_type": "code",
   "execution_count": null,
   "id": "733f2ff0-15c5-4239-978b-2aed2310cb6a",
   "metadata": {},
   "outputs": [],
   "source": [
    "# Getting a dataframe only where event is 'purchase'\n",
    "\n",
    "df_purchase = df.filter((df[\"event_type\"] == \"purchase\"))"
   ]
  },
  {
   "cell_type": "code",
   "execution_count": null,
   "id": "34c865d1-e58c-4a15-a749-b1914b769713",
   "metadata": {},
   "outputs": [],
   "source": [
    "df_purchase.show()"
   ]
  },
  {
   "cell_type": "code",
   "execution_count": null,
   "id": "56b8928c-eac8-4220-8f3a-a87e65ba24ee",
   "metadata": {},
   "outputs": [],
   "source": [
    "df_purchase.describe().show()"
   ]
  },
  {
   "cell_type": "code",
   "execution_count": null,
   "id": "a07a5127-a671-439b-b609-00c3b46560fa",
   "metadata": {},
   "outputs": [],
   "source": [
    "df_purchase.write.format(\"com.mongodb.spark.sql.DefaultSource\")\\\n",
    "    .mode(\"append\")\\\n",
    "    .option(\"spark.mongodb.output.uri\", \"mongodb://mongodb:27017/eCommerce.purchase\")\\\n",
    "    .save()"
   ]
  },
  {
   "cell_type": "code",
   "execution_count": null,
   "id": "f7893f1a-2bcf-4ef1-8754-2a7352501d30",
   "metadata": {},
   "outputs": [],
   "source": [
    "# 'groupBy' on brand, then count\n",
    "\n",
    "b_pur = df_purchase.groupBy(\"brand\").count()"
   ]
  },
  {
   "cell_type": "code",
   "execution_count": null,
   "id": "18dcd2e1-e3d6-4d61-a446-2024cc4f79a9",
   "metadata": {},
   "outputs": [],
   "source": [
    "b_pur.show()"
   ]
  },
  {
   "cell_type": "code",
   "execution_count": null,
   "id": "ba3d09b1-4b32-49fa-b915-e4bb2682aac0",
   "metadata": {},
   "outputs": [],
   "source": [
    "purchased_brands = b_pur.select(\"brand\").rdd.flatMap(lambda x: x).collect()\n",
    "number_of_purchases = b_pur.select(\"count\").rdd.flatMap(lambda x: x).collect()"
   ]
  },
  {
   "cell_type": "code",
   "execution_count": null,
   "id": "2ae5315a-9cc6-4820-b5fc-743e9b615d54",
   "metadata": {},
   "outputs": [],
   "source": [
    "plt.figure(figsize=(16, 10))\n",
    "plt.bar(x = purchased_brands,height = number_of_purchases)\n",
    "plt.xticks(rotation=45)\n",
    "plt.title(\"Number of purchases per brand\", fontweight= \"bold\")\n",
    "plt.xlabel(\"Brand\")\n",
    "plt.ylabel(\"Number of purchased products\")\n",
    "plt.grid(axis= 'y', linewidth= 0.3)\n",
    "plt.show()"
   ]
  },
  {
   "cell_type": "code",
   "execution_count": null,
   "id": "374360f1-3916-48e3-be60-d70c60c5b82d",
   "metadata": {},
   "outputs": [],
   "source": [
    "# top 25 purchased brand "
   ]
  },
  {
   "cell_type": "code",
   "execution_count": null,
   "id": "8e6e656e-907f-42ad-91fe-fa163b006b9d",
   "metadata": {},
   "outputs": [],
   "source": [
    "sorted_df_pur = b_pur.orderBy(b_pur['count'].desc())"
   ]
  },
  {
   "cell_type": "code",
   "execution_count": null,
   "id": "b70e0153-8190-473c-9f1f-ec62b5b7cb17",
   "metadata": {},
   "outputs": [],
   "source": [
    "sorted_df_pur.write.format(\"com.mongodb.spark.sql.DefaultSource\")\\\n",
    "    .mode(\"append\")\\\n",
    "    .option(\"spark.mongodb.output.uri\", \"mongodb://mongodb:27017/eCommerce.numberPurchPerBrand\")\\\n",
    "    .save()"
   ]
  },
  {
   "cell_type": "code",
   "execution_count": null,
   "id": "459a32cb-686a-424d-b6e9-70324c6903d8",
   "metadata": {},
   "outputs": [],
   "source": [
    "# Get the first 10 values from each column\n",
    "first_25_values = sorted_df_pur.limit(25).select(*[sorted_df_pur[c] for c in sorted_df_pur.columns])\n",
    "\n",
    "# Show the first 10 values from each column\n",
    "first_25_values.show()"
   ]
  },
  {
   "cell_type": "code",
   "execution_count": null,
   "id": "75b00b3f-4ee4-425a-839e-3c207b0c1690",
   "metadata": {},
   "outputs": [],
   "source": [
    "top25_num = first_25_values.select(\"count\").rdd.flatMap(lambda x: x).collect()\n",
    "top25_brand = first_25_values.select(\"brand\").rdd.flatMap(lambda x: x).collect()"
   ]
  },
  {
   "cell_type": "code",
   "execution_count": null,
   "id": "5cf54810-c735-432f-9314-d31192c962bb",
   "metadata": {},
   "outputs": [],
   "source": [
    "plt.figure(figsize=(16, 10))\n",
    "plt.bar(x = top25_brand,height = top25_num) \n",
    "plt.xticks(rotation=45)\n",
    "plt.title(\"Top 25 Purchased Brand\", fontweight= \"bold\")\n",
    "plt.xlabel(\"Brand\")\n",
    "plt.ylabel(\"Number of product purchased\")\n",
    "plt.grid(axis= 'y', linewidth= 0.3)\n",
    "plt.show()"
   ]
  },
  {
   "cell_type": "code",
   "execution_count": null,
   "id": "0c357ebb-44e9-410f-bdd3-ff9a18295ad7",
   "metadata": {},
   "outputs": [],
   "source": [
    "df_purchase.show()"
   ]
  },
  {
   "cell_type": "code",
   "execution_count": null,
   "id": "2bff0be6-efdf-424c-a705-e5fb180949ef",
   "metadata": {},
   "outputs": [],
   "source": [
    "# Counting purchased categories\n",
    "\n",
    "df_purchased_categories = df_purchase.groupBy(\"category_code\").count()"
   ]
  },
  {
   "cell_type": "code",
   "execution_count": null,
   "id": "50566770-1e77-4753-b6fa-89f9bc1993b0",
   "metadata": {},
   "outputs": [],
   "source": [
    "df_purchased_categories.show()"
   ]
  },
  {
   "cell_type": "code",
   "execution_count": null,
   "id": "c3f5603a-570c-44ab-9184-3975ee5e832b",
   "metadata": {},
   "outputs": [],
   "source": [
    "df_purchased_categories.write.format(\"com.mongodb.spark.sql.DefaultSource\")\\\n",
    "    .mode(\"append\")\\\n",
    "    .option(\"spark.mongodb.output.uri\", \"mongodb://mongodb:27017/eCommerce.numberPurchCategories\")\\\n",
    "    .save()"
   ]
  },
  {
   "cell_type": "code",
   "execution_count": null,
   "id": "ffddfb8d-0685-445c-9152-40ae666d2854",
   "metadata": {},
   "outputs": [],
   "source": [
    "purchased_categories = df_purchased_categories.select(\"category_code\").rdd.flatMap(lambda x: x).collect()\n",
    "number_of_purchases = df_purchased_categories.select(\"count\").rdd.flatMap(lambda x: x).collect()"
   ]
  },
  {
   "cell_type": "code",
   "execution_count": null,
   "id": "fe0642a2-f31f-4db3-815c-61e4aca0f9e8",
   "metadata": {},
   "outputs": [],
   "source": [
    "print(len(purchased_categories))"
   ]
  },
  {
   "cell_type": "code",
   "execution_count": null,
   "id": "39442737-787b-430f-a00b-bebf6698e42b",
   "metadata": {},
   "outputs": [],
   "source": [
    "plt.figure(figsize=(14, 8))\n",
    "plt.bar(x = purchased_categories,height = number_of_purchases) # Traccia i valori\n",
    "plt.xticks(rotation=90)\n",
    "plt.title(\"Number of purchases for each category\", fontweight= \"bold\")\n",
    "plt.xlabel(\"Category\")\n",
    "plt.ylabel(\"Number of purchases\")\n",
    "plt.grid(axis= 'y', linewidth= 0.3)\n",
    "plt.show()"
   ]
  },
  {
   "cell_type": "code",
   "execution_count": null,
   "id": "50b6d2cf-3af4-4cae-ba11-24bbbdeccf61",
   "metadata": {},
   "outputs": [],
   "source": [
    "##  Let's what if 'event_type == \"view\"'"
   ]
  },
  {
   "cell_type": "code",
   "execution_count": null,
   "id": "2fc8102c-d580-47dd-b316-333dd328e278",
   "metadata": {},
   "outputs": [],
   "source": [
    "df_views = df.filter((df[\"event_type\"] == \"view\"))"
   ]
  },
  {
   "cell_type": "code",
   "execution_count": null,
   "id": "5a831402-dad3-42d2-b907-ea45a52194da",
   "metadata": {},
   "outputs": [],
   "source": [
    "df_views.describe().show()"
   ]
  },
  {
   "cell_type": "code",
   "execution_count": null,
   "id": "062d73bc-a0b3-401f-8102-96f2b1c4ef26",
   "metadata": {},
   "outputs": [],
   "source": [
    "df_views.show()"
   ]
  },
  {
   "cell_type": "code",
   "execution_count": null,
   "id": "9eefd16e-4c76-48cf-9eed-2bae8c72ea35",
   "metadata": {},
   "outputs": [],
   "source": [
    "df_views.write.format(\"com.mongodb.spark.sql.DefaultSource\")\\\n",
    "    .mode(\"append\")\\\n",
    "    .option(\"spark.mongodb.output.uri\", \"mongodb://mongodb:27017/eCommerce.views\")\\\n",
    "    .save()"
   ]
  },
  {
   "cell_type": "code",
   "execution_count": null,
   "id": "5b92017e-0a19-4624-8688-4b638b36612a",
   "metadata": {},
   "outputs": [],
   "source": [
    "# count for each brand\n",
    "\n",
    "views_brand_count = df_views.groupBy(\"brand\").count()"
   ]
  },
  {
   "cell_type": "code",
   "execution_count": null,
   "id": "29bf807e-0662-4161-9ad4-c9b3d814843c",
   "metadata": {},
   "outputs": [],
   "source": [
    "views_brand_count.show()"
   ]
  },
  {
   "cell_type": "code",
   "execution_count": null,
   "id": "67d7a3c6-5d97-4382-a5d3-a0fd6040c475",
   "metadata": {},
   "outputs": [],
   "source": [
    "views_brand_count.describe().show()"
   ]
  },
  {
   "cell_type": "code",
   "execution_count": null,
   "id": "b9d2084e-40a8-47c7-84c2-5c4e3d0f35c1",
   "metadata": {},
   "outputs": [],
   "source": [
    "sorted_df_views_brand_count = views_brand_count.orderBy(views_brand_count['count'].desc())"
   ]
  },
  {
   "cell_type": "code",
   "execution_count": null,
   "id": "f7604ee5-7442-41bd-9ece-ece2d54d5545",
   "metadata": {},
   "outputs": [],
   "source": [
    "sorted_df_views_brand_count.show()"
   ]
  },
  {
   "cell_type": "code",
   "execution_count": null,
   "id": "12a8cd66-8cac-4d40-b08b-ac182a544f62",
   "metadata": {},
   "outputs": [],
   "source": [
    "sorted_df_views_brand_count.write.format(\"com.mongodb.spark.sql.DefaultSource\")\\\n",
    "    .mode(\"append\")\\\n",
    "    .option(\"spark.mongodb.output.uri\", \"mongodb://mongodb:27017/eCommerce.viewsPerBrandCount\")\\\n",
    "    .save()"
   ]
  },
  {
   "cell_type": "code",
   "execution_count": null,
   "id": "68db2a53-7490-4359-9c2b-1e95b8acb2a7",
   "metadata": {},
   "outputs": [],
   "source": [
    "from pyspark.sql.functions import mean, avg"
   ]
  },
  {
   "cell_type": "code",
   "execution_count": null,
   "id": "ecdbf865-fe04-4afc-9df8-77448fda4295",
   "metadata": {},
   "outputs": [],
   "source": [
    "# Calculate the mean value of 'count' column\n",
    "mean_views_per_brand = views_brand_count.agg({'count': 'avg'}).collect()[0][0]\n",
    "print(mean_views_per_brand)"
   ]
  },
  {
   "cell_type": "code",
   "execution_count": null,
   "id": "b21105fb-e8b3-40b8-9649-8c06df96c5d5",
   "metadata": {},
   "outputs": [],
   "source": [
    "views_greater_mean = views_brand_count.filter((views_brand_count[\"count\"] > mean_views_per_brand))"
   ]
  },
  {
   "cell_type": "code",
   "execution_count": null,
   "id": "4550ba52-35cb-4fa5-8368-760ad4e6b491",
   "metadata": {},
   "outputs": [],
   "source": [
    "views_greater_mean.show()"
   ]
  },
  {
   "cell_type": "code",
   "execution_count": null,
   "id": "1d711350-ec24-41a3-90e4-c0159b16d2fd",
   "metadata": {},
   "outputs": [],
   "source": [
    "viewed_brands = views_greater_mean.select(\"brand\").rdd.flatMap(lambda x: x).collect()\n",
    "number_of_views = views_greater_mean.select(\"count\").rdd.flatMap(lambda x: x).collect()"
   ]
  },
  {
   "cell_type": "code",
   "execution_count": null,
   "id": "e51ddc55-21c7-4ac3-b6f0-233b91e8f5d7",
   "metadata": {},
   "outputs": [],
   "source": [
    "## BRAND PIù VISUALIZZATI\n",
    "\n",
    "plt.figure(figsize=(14, 8))\n",
    "plt.bar(x = viewed_brands,height = number_of_views)\n",
    "plt.xticks(rotation=90)\n",
    "plt.title(\"Number of views per brand\", fontweight= \"bold\")\n",
    "plt.xlabel(\"Brand\")\n",
    "plt.ylabel(\"Views\")\n",
    "plt.grid(axis= 'y', linewidth= 0.3)\n",
    "plt.show()"
   ]
  },
  {
   "cell_type": "code",
   "execution_count": null,
   "id": "306ce3ee-ce74-4288-a437-50df1ad24792",
   "metadata": {},
   "outputs": [],
   "source": [
    "########################################################################"
   ]
  },
  {
   "cell_type": "code",
   "execution_count": null,
   "id": "8cf42d69-89ed-4af4-84cb-0db344b453fa",
   "metadata": {},
   "outputs": [],
   "source": [
    "# Obiettivo: Capire a quali orari avvengono più frequentemente le visualizzazioni (x = orario, y = numero di visualizzazioni )"
   ]
  },
  {
   "cell_type": "code",
   "execution_count": null,
   "id": "de87bc4e-1a2b-40b5-82fd-7d7af180bb57",
   "metadata": {},
   "outputs": [],
   "source": [
    "df_time_views = df.filter((df[\"event_type\"] == \"view\"))"
   ]
  },
  {
   "cell_type": "code",
   "execution_count": null,
   "id": "f6f9fd41-ecb4-4449-8a11-a9fdea09ef37",
   "metadata": {},
   "outputs": [],
   "source": [
    "df_time_views.show()"
   ]
  },
  {
   "cell_type": "code",
   "execution_count": null,
   "id": "5223d466-fdfd-4bfc-815d-446d18c585b0",
   "metadata": {},
   "outputs": [],
   "source": [
    "df_time_views.select([\"event_time\", 'event_type']).show()"
   ]
  },
  {
   "cell_type": "code",
   "execution_count": null,
   "id": "a8b4085d-56e1-4468-8f3c-a5dc3e60b848",
   "metadata": {},
   "outputs": [],
   "source": [
    "from pyspark.sql.functions import hour, dayofmonth, month, year, col"
   ]
  },
  {
   "cell_type": "code",
   "execution_count": null,
   "id": "fd44bbd1-f951-48ae-8d05-39b8c9756037",
   "metadata": {},
   "outputs": [],
   "source": [
    "# Estraiamo l'ora dal timestamp\n",
    "# Estraiamo anche il giorno e il mese e l'anno, ponendoli in colonne separate\n",
    "df_time = df_time_views.select(col(\"event_time\"), \n",
    "     year(col(\"event_time\")).alias(\"year\"), \n",
    "     month(col(\"event_time\")).alias(\"month\"), \n",
    "     dayofmonth(col(\"event_time\")).alias(\"day\"),\n",
    "                    hour(col(\"event_time\")).alias(\"hour\"))"
   ]
  },
  {
   "cell_type": "code",
   "execution_count": null,
   "id": "011c048c-349b-428d-9ac3-b32839827b0e",
   "metadata": {},
   "outputs": [],
   "source": [
    "df_time.show()"
   ]
  },
  {
   "cell_type": "code",
   "execution_count": null,
   "id": "91ed3a92-3528-49c4-a95f-45d57d1e1b07",
   "metadata": {},
   "outputs": [],
   "source": [
    "df_time_schema = df_time \\\n",
    "    .withColumn(\"year\", col('year').cast(StringType()))"
   ]
  },
  {
   "cell_type": "code",
   "execution_count": null,
   "id": "f0f74a1f-6863-4f85-a6f4-f6ed136ef4a7",
   "metadata": {},
   "outputs": [],
   "source": [
    "df_time_schema = df_time_schema \\\n",
    "    .withColumn(\"hour\", col('hour').cast(StringType()))"
   ]
  },
  {
   "cell_type": "code",
   "execution_count": null,
   "id": "e097aed3-60e1-408c-92e8-63eb6fa6ce7b",
   "metadata": {},
   "outputs": [],
   "source": [
    "df_time_schema = df_time_schema \\\n",
    "    .withColumn(\"month\", col('month').cast(StringType()))"
   ]
  },
  {
   "cell_type": "code",
   "execution_count": null,
   "id": "70d9c206-26b8-4ba9-8293-b9445900aa70",
   "metadata": {},
   "outputs": [],
   "source": [
    "df_time_schema = df_time_schema \\\n",
    "    .withColumn(\"day\", col('day').cast(StringType()))"
   ]
  },
  {
   "cell_type": "code",
   "execution_count": null,
   "id": "7ca3f2f0-eff7-462f-b5cc-8eba5c3a9da6",
   "metadata": {},
   "outputs": [],
   "source": [
    "df_time_schema.printSchema()"
   ]
  },
  {
   "cell_type": "code",
   "execution_count": null,
   "id": "8902b96a-a880-4b89-8ffc-db80f56989c4",
   "metadata": {},
   "outputs": [],
   "source": [
    "df_time.write.format(\"com.mongodb.spark.sql.DefaultSource\")\\\n",
    "    .mode(\"append\")\\\n",
    "    .option(\"spark.mongodb.output.uri\", \"mongodb://mongodb:27017/eCommerce.TimeViews\")\\\n",
    "    .save()"
   ]
  },
  {
   "cell_type": "code",
   "execution_count": null,
   "id": "e6031e7f-4a0a-41b4-95b7-9788249c87f7",
   "metadata": {},
   "outputs": [],
   "source": [
    "df_time_schema.write.format(\"com.mongodb.spark.sql.DefaultSource\")\\\n",
    "    .mode(\"append\")\\\n",
    "    .option(\"spark.mongodb.output.uri\", \"mongodb://mongodb:27017/eCommerce.TimeViewsSchema\")\\\n",
    "    .save()"
   ]
  },
  {
   "cell_type": "code",
   "execution_count": null,
   "id": "24863b09-8a94-4899-a584-ca03ac5566f8",
   "metadata": {},
   "outputs": [],
   "source": [
    "df_time_schema.show()"
   ]
  },
  {
   "cell_type": "code",
   "execution_count": null,
   "id": "dba29f19-4bc2-49e0-a059-4c0ee9d7dafc",
   "metadata": {},
   "outputs": [],
   "source": [
    "df_time_schema_count = df_time_schema.groupBy('day').count()"
   ]
  },
  {
   "cell_type": "code",
   "execution_count": null,
   "id": "2e3c0e0f-8b09-4742-a7f5-9e4db59c1a14",
   "metadata": {},
   "outputs": [],
   "source": [
    "df_time_schema_count.orderBy(df_time_schema_count['count'].desc()).show()"
   ]
  },
  {
   "cell_type": "code",
   "execution_count": null,
   "id": "73cbb137-6e31-4716-b424-5f88c9e1e81d",
   "metadata": {},
   "outputs": [],
   "source": [
    "df_time.printSchema()"
   ]
  },
  {
   "cell_type": "code",
   "execution_count": null,
   "id": "e44e9890-d911-4a55-9ebe-36455b16a93f",
   "metadata": {},
   "outputs": [],
   "source": [
    "hours_count = df_time.groupBy('hour').count()"
   ]
  },
  {
   "cell_type": "code",
   "execution_count": null,
   "id": "52d4aad8-9dae-4549-9399-f9c797c0f167",
   "metadata": {},
   "outputs": [],
   "source": [
    "hours_count.describe().show()"
   ]
  },
  {
   "cell_type": "code",
   "execution_count": null,
   "id": "ade584a8-2d84-4a5f-8df8-3a4cf0d727b8",
   "metadata": {},
   "outputs": [],
   "source": [
    "hours_ordered_df = hours_count.orderBy(hours_count[\"hour\"].asc())#.show()"
   ]
  },
  {
   "cell_type": "code",
   "execution_count": null,
   "id": "509384ad-64a9-4744-9420-8ac9b6023f82",
   "metadata": {},
   "outputs": [],
   "source": [
    "hours_ordered_df.show()"
   ]
  },
  {
   "cell_type": "code",
   "execution_count": null,
   "id": "895996d2-14d8-4677-9877-b09fec21ac2d",
   "metadata": {},
   "outputs": [],
   "source": [
    "hours_ordered_df.write.format(\"com.mongodb.spark.sql.DefaultSource\")\\\n",
    "    .mode(\"append\")\\\n",
    "    .option(\"spark.mongodb.output.uri\", \"mongodb://mongodb:27017/eCommerce.OrderedTimeViewsTotal\")\\\n",
    "    .save()"
   ]
  },
  {
   "cell_type": "code",
   "execution_count": null,
   "id": "6fbfcc13-2513-499e-9857-e587190a8d0e",
   "metadata": {},
   "outputs": [],
   "source": [
    "hours = hours_ordered_df.select(\"hour\").rdd.flatMap(lambda x: x).collect()\n",
    "number_of_views_per_hour = hours_ordered_df.select(\"count\").rdd.flatMap(lambda x: x).collect()"
   ]
  },
  {
   "cell_type": "code",
   "execution_count": null,
   "id": "1498038b-4b59-49e9-b773-e9f741c15043",
   "metadata": {},
   "outputs": [],
   "source": [
    "plt.figure(figsize=(14, 8))\n",
    "plt.plot(hours, number_of_views_per_hour, linestyle='-') # Traccia i valori\n",
    "plt.xticks(hours)\n",
    "plt.title(\"Numero di views per ora\", fontweight= \"bold\")\n",
    "plt.xlabel(\"Ora\")\n",
    "plt.ylabel(\"Views\")\n",
    "plt.grid(linewidth= 0.3)\n",
    "plt.show()"
   ]
  },
  {
   "cell_type": "code",
   "execution_count": null,
   "id": "786b6da5-fcb9-456a-af53-8f4fe0d375ca",
   "metadata": {},
   "outputs": [],
   "source": [
    "# dataset 'df_purchase'\n",
    "df_purchase.show()"
   ]
  },
  {
   "cell_type": "code",
   "execution_count": null,
   "id": "c9f368d6-a8ea-4106-88ca-1b57e9176e22",
   "metadata": {},
   "outputs": [],
   "source": [
    "from pyspark.sql.functions import hour, dayofmonth, month, year, col"
   ]
  },
  {
   "cell_type": "code",
   "execution_count": null,
   "id": "799b12ce-0063-49be-ae99-a79a66bddca4",
   "metadata": {},
   "outputs": [],
   "source": [
    "# Get the hour from timestamp\n",
    "# Extract year, month and day too, creating a variable for each one of them\n",
    "df_time_pur = df_purchase.select(col(\"event_time\"), \n",
    "     year(col(\"event_time\")).alias(\"year\"), \n",
    "     month(col(\"event_time\")).alias(\"month\"), \n",
    "     dayofmonth(col(\"event_time\")).alias(\"day\"),\n",
    "                    hour(col(\"event_time\")).alias(\"hour\"))"
   ]
  },
  {
   "cell_type": "code",
   "execution_count": null,
   "id": "73b57964-d912-41fa-a80c-15ce63f0e710",
   "metadata": {},
   "outputs": [],
   "source": [
    "df_time_pur.write.format(\"com.mongodb.spark.sql.DefaultSource\")\\\n",
    "    .mode(\"append\")\\\n",
    "    .option(\"spark.mongodb.output.uri\", \"mongodb://mongodb:27017/eCommerce.TimePurchase\")\\\n",
    "    .save()"
   ]
  },
  {
   "cell_type": "code",
   "execution_count": null,
   "id": "b02ab939-a3c1-48bb-974d-d73e4e1e31ce",
   "metadata": {},
   "outputs": [],
   "source": [
    "df_time_pur.show()"
   ]
  },
  {
   "cell_type": "code",
   "execution_count": null,
   "id": "5f9261a0-4547-4ca2-adf8-904d6c7bc163",
   "metadata": {},
   "outputs": [],
   "source": [
    "hours_count_pur = df_time_pur.groupBy('hour').count()"
   ]
  },
  {
   "cell_type": "code",
   "execution_count": null,
   "id": "cbfd7ba7-e176-4c6c-bd49-e3e46b141fa6",
   "metadata": {},
   "outputs": [],
   "source": [
    "hours_count_pur.show()"
   ]
  },
  {
   "cell_type": "code",
   "execution_count": null,
   "id": "f9beadba-57f6-491e-9e1d-5ebf673ee71b",
   "metadata": {},
   "outputs": [],
   "source": [
    "hours_ordered_df_pur = hours_count_pur.orderBy(hours_count_pur[\"hour\"].asc())#.show()"
   ]
  },
  {
   "cell_type": "code",
   "execution_count": null,
   "id": "ec1c8997-8259-42a0-8384-c424a6276458",
   "metadata": {},
   "outputs": [],
   "source": [
    "hours_ordered_df_pur.write.format(\"com.mongodb.spark.sql.DefaultSource\")\\\n",
    "    .mode(\"append\")\\\n",
    "    .option(\"spark.mongodb.output.uri\", \"mongodb://mongodb:27017/eCommerce.OrderedTimePurchaseTotal\")\\\n",
    "    .save()"
   ]
  },
  {
   "cell_type": "code",
   "execution_count": null,
   "id": "72d689a5-6038-4b0e-ac34-2a4e66cc0d1f",
   "metadata": {},
   "outputs": [],
   "source": [
    "hours_ordered_df_pur.show()"
   ]
  },
  {
   "cell_type": "code",
   "execution_count": null,
   "id": "d476e955-f17e-45fc-8ac6-f96a3b093985",
   "metadata": {},
   "outputs": [],
   "source": [
    "hours_pur= hours_ordered_df_pur.select(\"hour\").rdd.flatMap(lambda x: x).collect()\n",
    "number_of_views_per_hour_pur = hours_ordered_df_pur.select(\"count\").rdd.flatMap(lambda x: x).collect()"
   ]
  },
  {
   "cell_type": "code",
   "execution_count": null,
   "id": "088e8da6-5bb1-4035-b9c3-08943296214b",
   "metadata": {},
   "outputs": [],
   "source": [
    "plt.figure(figsize=(14, 8))\n",
    "plt.plot(hours_pur, number_of_views_per_hour_pur, linestyle='-')\n",
    "plt.xticks(hours)\n",
    "plt.title(\"Number of purchases per hour\", fontweight= \"bold\")\n",
    "plt.xlabel(\"Hour\")\n",
    "plt.ylabel(\"Purchases\")\n",
    "plt.grid(linewidth= 0.3)\n",
    "plt.show()"
   ]
  },
  {
   "cell_type": "code",
   "execution_count": null,
   "id": "49241435-c0f8-4806-8837-d4da82ea4555",
   "metadata": {},
   "outputs": [],
   "source": [
    "\n",
    "\n",
    "plt.figure(figsize=(14, 8))\n",
    "plt.plot(hours_pur, number_of_views_per_hour_pur, linestyle='-', color='red', label=\"Acquisti\") # Traccia i valori\n",
    "plt.plot(hours, number_of_views_per_hour, linestyle='-', color = 'blue', label='Views')\n",
    "plt.title(\"Number of purchases and view per hour\", fontweight= \"bold\")\n",
    "plt.xlabel(\"Hour\")\n",
    "plt.ylabel(\"Number\")\n",
    "plt.xticks(hours)\n",
    "plt.legend()\n",
    "plt.grid(linewidth= 0.3)\n",
    "plt.show()"
   ]
  },
  {
   "cell_type": "code",
   "execution_count": null,
   "id": "085af08a-d876-4615-8674-fa114522979f",
   "metadata": {},
   "outputs": [],
   "source": [
    "############################################"
   ]
  },
  {
   "cell_type": "code",
   "execution_count": null,
   "id": "dca9cb1a-c474-41b6-ba60-eed830f68bf8",
   "metadata": {},
   "outputs": [],
   "source": [
    "# SEQUENTIAL PATTERN MINING"
   ]
  },
  {
   "cell_type": "code",
   "execution_count": null,
   "id": "5611b069-fd11-456b-aa98-c91ade3d2c50",
   "metadata": {},
   "outputs": [],
   "source": [
    "df.describe().show()"
   ]
  },
  {
   "cell_type": "code",
   "execution_count": null,
   "id": "49798384-d392-4571-aec2-f9fe147fa8f5",
   "metadata": {},
   "outputs": [],
   "source": [
    "################################################"
   ]
  },
  {
   "cell_type": "code",
   "execution_count": null,
   "id": "4fb0f6e3-c17a-40b4-995a-993432081f22",
   "metadata": {},
   "outputs": [],
   "source": [
    "from pyspark.sql.functions import collect_list, struct\n",
    "\n",
    "# Group by product_id and user_id and collect event_type and event_time into a list of structs\n",
    "grouped_df = df.groupby('product_id', 'user_id').agg(collect_list(struct('event_type', 'event_time')).alias('event_info'))\n",
    "\n",
    "# Create the desired list of dictionaries\n",
    "associations = []\n",
    "\n",
    "# Iterate over the grouped results and create the structure\n",
    "for row in grouped_df.collect():\n",
    "    product_id = row['product_id']\n",
    "    user_id = row['user_id']\n",
    "    event_info = row['event_info']\n",
    "\n",
    "    # Create the list of events for each user\n",
    "    user_events = []\n",
    "    for event in event_info:\n",
    "        event_type = event['event_type']\n",
    "        event_time = event['event_time']\n",
    "\n",
    "        # Create the dictionary structure for the event\n",
    "        event_dict = {'event_type': event_type, 'event_time': event_time}\n",
    "        user_events.append(event_dict)\n",
    "\n",
    "    # Create the user dictionary\n",
    "    user_dict = {f'{user_id}': user_events}\n",
    "\n",
    "    # Create the product dictionary\n",
    "    product_dict = {f'{product_id}': [user_dict]}\n",
    "\n",
    "    # Add the dictionary to the associations list\n",
    "    associations.append(product_dict)\n",
    "\n",
    "# Print the resulting list of dictionaries\n",
    "# for item in associations:\n",
    "    # print(item)\n",
    "\n"
   ]
  },
  {
   "cell_type": "code",
   "execution_count": null,
   "id": "55516bf6-af0e-41a9-8196-f6013be7a628",
   "metadata": {},
   "outputs": [],
   "source": [
    "import pandas as pd\n",
    "from datetime import datetime\n",
    "\n",
    "\n",
    "data = []\n",
    "\n",
    "for assoc in associations:\n",
    "    for key, value in assoc.items():\n",
    "        for inner_dict in value:\n",
    "            for inner_key, inner_value in inner_dict.items():\n",
    "                event_times = []\n",
    "                event_types = []\n",
    "                for event in inner_value:\n",
    "                    event_times.append(event['event_time'])\n",
    "                    event_types.append([event['event_type']])\n",
    "                data.append({\n",
    "                    'product_id': key,\n",
    "                    'user_id': inner_key,\n",
    "                    'event_time': event_times,\n",
    "                    'event_type': event_types\n",
    "                })\n",
    "\n",
    "associations_df = pd.DataFrame(data)\n",
    "print(associations_df.head())"
   ]
  },
  {
   "cell_type": "code",
   "execution_count": null,
   "id": "c3bc7aef-c5af-4cc1-a674-2adcff33a0bb",
   "metadata": {},
   "outputs": [],
   "source": [
    "# Trasformiamolo per usarlo con PySpark\n",
    "\n",
    "df_associations = spark.createDataFrame(associations_df)"
   ]
  },
  {
   "cell_type": "code",
   "execution_count": null,
   "id": "80be5a99-644f-42e3-a521-860ff9d94ce1",
   "metadata": {},
   "outputs": [],
   "source": [
    "df_associations.show()"
   ]
  },
  {
   "cell_type": "code",
   "execution_count": null,
   "id": "5a65e034-44dc-48cc-8667-f68ec6668363",
   "metadata": {},
   "outputs": [],
   "source": [
    "df_associations.printSchema()"
   ]
  },
  {
   "cell_type": "code",
   "execution_count": null,
   "id": "cf1d229d-1659-4b26-95e3-8714aafdb4bf",
   "metadata": {},
   "outputs": [],
   "source": [
    "df_associations.write.format(\"com.mongodb.spark.sql.DefaultSource\")\\\n",
    "    .mode(\"append\")\\\n",
    "    .option(\"spark.mongodb.output.uri\", \"mongodb://mongodb:27017/eCommerce.ProdAssocTempiUserSequence\")\\\n",
    "    .save()"
   ]
  },
  {
   "cell_type": "code",
   "execution_count": null,
   "id": "a6afca0d-abe8-4a6d-85f7-dc2aeabf470c",
   "metadata": {},
   "outputs": [],
   "source": [
    "###############"
   ]
  },
  {
   "cell_type": "code",
   "execution_count": null,
   "id": "395b52a1-71dc-4137-82b3-aa0a916064ca",
   "metadata": {},
   "outputs": [],
   "source": [
    "# Renaming the column 'event_types' in 'sequence'\n",
    "df_associations = df_associations.withColumnRenamed(\"event_type\", \"sequence\")"
   ]
  },
  {
   "cell_type": "code",
   "execution_count": null,
   "id": "e87221b1-8994-466b-aa5e-ff3f873d6833",
   "metadata": {},
   "outputs": [],
   "source": [
    "pr = df_associations.groupBy(\"sequence\").count()"
   ]
  },
  {
   "cell_type": "code",
   "execution_count": null,
   "id": "8aa7cb79-c784-46ee-926c-9bce8c98fcf1",
   "metadata": {},
   "outputs": [],
   "source": [
    "orderedCountSeq = pr.orderBy(pr[\"count\"].desc())"
   ]
  },
  {
   "cell_type": "code",
   "execution_count": null,
   "id": "d254864f-3477-4531-9381-94a2612da717",
   "metadata": {},
   "outputs": [],
   "source": [
    "### Possible sequences\n",
    "\n",
    "orderedCountSeq.show(truncate=False) "
   ]
  },
  {
   "cell_type": "code",
   "execution_count": null,
   "id": "1e8ae555-4e12-4346-b1fa-9ea42b8068ed",
   "metadata": {},
   "outputs": [],
   "source": [
    "orderedCountSeq.write.format(\"com.mongodb.spark.sql.DefaultSource\")\\\n",
    "    .mode(\"append\")\\\n",
    "    .option(\"spark.mongodb.output.uri\", \"mongodb://mongodb:27017/eCommerce.orderedCountSeq\")\\\n",
    "    .save()"
   ]
  },
  {
   "cell_type": "code",
   "execution_count": null,
   "id": "fb9485cf-dc5b-4e45-8d69-73facc4ad9dc",
   "metadata": {},
   "outputs": [],
   "source": [
    "# Using findFrequentSequentialPatterns\n",
    "\n",
    "from pyspark.ml.fpm import PrefixSpan\n",
    "\n",
    "prefixSpan = PrefixSpan()"
   ]
  },
  {
   "cell_type": "code",
   "execution_count": null,
   "id": "c14f4657-dfcb-4f32-bf24-0b6ab33749a1",
   "metadata": {},
   "outputs": [],
   "source": [
    "prefixSpan.getSequenceCol()"
   ]
  },
  {
   "cell_type": "code",
   "execution_count": null,
   "id": "2ff303b8-02c9-4c06-b0f6-3f6fbed9f67b",
   "metadata": {},
   "outputs": [],
   "source": [
    "# Using PrefixSpan to find the most frequent patterns\n",
    "prefix_span = PrefixSpan(minSupport=0.1, maxPatternLength=10)\n",
    "result = prefix_span.findFrequentSequentialPatterns(df_associations).sort('sequence')"
   ]
  },
  {
   "cell_type": "code",
   "execution_count": null,
   "id": "b3cb1247-7b80-4daf-bad6-436438c4c732",
   "metadata": {},
   "outputs": [],
   "source": [
    "# Frequent patterns\n",
    "result.show(truncate=False)"
   ]
  }
 ],
 "metadata": {
  "kernelspec": {
   "display_name": "Python 3 (ipykernel)",
   "language": "python",
   "name": "python3"
  },
  "language_info": {
   "codemirror_mode": {
    "name": "ipython",
    "version": 3
   },
   "file_extension": ".py",
   "mimetype": "text/x-python",
   "name": "python",
   "nbconvert_exporter": "python",
   "pygments_lexer": "ipython3",
   "version": "3.11.6"
  }
 },
 "nbformat": 4,
 "nbformat_minor": 5
}
